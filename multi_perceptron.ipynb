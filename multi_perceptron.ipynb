{
  "nbformat": 4,
  "nbformat_minor": 0,
  "metadata": {
    "colab": {
      "provenance": [],
      "authorship_tag": "ABX9TyP+Ykeb2PXAiha3wpaE4ENf",
      "include_colab_link": true
    },
    "kernelspec": {
      "name": "python3",
      "display_name": "Python 3"
    },
    "language_info": {
      "name": "python"
    }
  },
  "cells": [
    {
      "cell_type": "markdown",
      "metadata": {
        "id": "view-in-github",
        "colab_type": "text"
      },
      "source": [
        "<a href=\"https://colab.research.google.com/github/ZhechengLiao/deeplearning-notebook/blob/master/multi_perceptron.ipynb\" target=\"_parent\"><img src=\"https://colab.research.google.com/assets/colab-badge.svg\" alt=\"Open In Colab\"/></a>"
      ]
    },
    {
      "cell_type": "code",
      "execution_count": null,
      "metadata": {
        "id": "AcwYMnZANbcQ"
      },
      "outputs": [],
      "source": [
        "import torch\n",
        "from torch import nn\n",
        "import pandas as pd"
      ]
    },
    {
      "cell_type": "code",
      "source": [
        "num_inputs, num_hidden, num_output = 784, 256, 10\n",
        "W1 = torch.randn(num_inputs, num_hidden, requires_grad=True)\n",
        "b1 = torch.zeros(num_hidden, requires_grad=True)\n",
        "W2 = torch.randn(num_hidden, num_output, requires_grad=True)\n",
        "b2 = torch.zeros(num_output, requires_grad=True)\n",
        "\n",
        "params = [W1, b1, W2, b2]"
      ],
      "metadata": {
        "id": "e2k7tyOmN0qR"
      },
      "execution_count": null,
      "outputs": []
    },
    {
      "cell_type": "code",
      "source": [
        "def relu(X):\n",
        "  a = torch.zeros_like(X)\n",
        "  return torch.max(X, a)"
      ],
      "metadata": {
        "id": "2BTZzSZ2Ol1m"
      },
      "execution_count": null,
      "outputs": []
    },
    {
      "cell_type": "code",
      "source": [
        "def net(X):\n",
        "  X = X.shape((-1, num_inputs))\n",
        "  H = relu(X @ W1 + b1)\n",
        "  return (H @ W2 + b2)\n",
        "\n",
        "loss = nn.CrossEntropyLoss()\n",
        "optimizer = torch.optim.SGD(net.parameters())"
      ],
      "metadata": {
        "id": "2ynNnafIP6Yd"
      },
      "execution_count": null,
      "outputs": []
    }
  ]
}