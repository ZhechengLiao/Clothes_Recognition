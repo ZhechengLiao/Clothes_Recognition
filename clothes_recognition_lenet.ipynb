{
 "cells": [
  {
   "cell_type": "code",
   "execution_count": 69,
   "id": "a2293401",
   "metadata": {},
   "outputs": [],
   "source": [
    "import torch\n",
    "from torch import nn\n",
    "from torch.nn import functional as F\n",
    "from torch.utils.data import Dataset\n",
    "from torch.utils.data import DataLoader\n",
    "from torchvision import datasets\n",
    "from torchvision.transforms import ToTensor\n",
    "import torchvision.transforms as transforms"
   ]
  },
  {
   "cell_type": "code",
   "execution_count": 71,
   "id": "4ed62c7c",
   "metadata": {},
   "outputs": [],
   "source": [
    "# Get datasets\n",
    "training_data = datasets.FashionMNIST(\n",
    "    root='data',\n",
    "    train=True,\n",
    "    download=False,\n",
    "    transform=transforms.Compose([\n",
    "        transforms.Resize((32, 32)), # because LeNet is for 32*32 image, so we change these datas to 32*32\n",
    "        transforms.ToTensor(),\n",
    "        transforms.Normalize(mean=(0.1307,), std = (0.3081,))\n",
    "    ])\n",
    ")\n",
    "\n",
    "test_data = datasets.FashionMNIST(\n",
    "    root='data',\n",
    "    train=False,\n",
    "    download=False,\n",
    "    transform=transforms.Compose([\n",
    "        transforms.Resize((32, 32)),\n",
    "        transforms.ToTensor(),\n",
    "        transforms.Normalize(mean=(0.1325,), std = (0.3105,))\n",
    "    ])\n",
    ")\n",
    "\n",
    "# Dataloader\n",
    "train_loader = DataLoader(training_data, batch_size=64, shuffle=True)\n",
    "test_loader = DataLoader(test_data, batch_size=64, shuffle=True)"
   ]
  },
  {
   "cell_type": "code",
   "execution_count": 72,
   "id": "f045a076",
   "metadata": {},
   "outputs": [
    {
     "name": "stdout",
     "output_type": "stream",
     "text": [
      "Sandal\n"
     ]
    },
    {
     "data": {
      "image/png": "[encoded data removed]",
      "text/plain": [
       "<Figure size 640x480 with 1 Axes>"
      ]
     },
     "metadata": {},
     "output_type": "display_data"
    }
   ],
   "source": [
    "from matplotlib import pyplot as plt\n",
    "\n",
    "labels_map = {\n",
    "    0: \"T-Shirt\",\n",
    "    1: \"Trouser\",\n",
    "    2: \"Pullover\",\n",
    "    3: \"Dress\",\n",
    "    4: \"Coat\",\n",
    "    5: \"Sandal\",\n",
    "    6: \"Shirt\",\n",
    "    7: \"Sneaker\",\n",
    "    8: \"Bag\",\n",
    "    9: \"Ankle Boot\",\n",
    "}\n",
    "\n",
    "img_idx = torch.randint(len(train_loader), (1,)).item()\n",
    "plt.imshow(training_data[img_idx][0].squeeze(), cmap='gray') # trianing_data[idx] = img, label\n",
    "print(labels_map[training_data[img_idx][1]])"
   ]
  },
  {
   "cell_type": "code",
   "execution_count": 73,
   "id": "1edc475e",
   "metadata": {},
   "outputs": [
    {
     "data": {
      "text/plain": [
       "torch.Size([64, 32, 32])"
      ]
     },
     "execution_count": 73,
     "metadata": {},
     "output_type": "execute_result"
    }
   ],
   "source": [
    "img_feature, label = next(iter(train_loader))\n",
    "img_feature.squeeze().shape # (BatchSize, Width, Height)"
   ]
  },
  {
   "cell_type": "code",
   "execution_count": 94,
   "id": "ef766174",
   "metadata": {},
   "outputs": [],
   "source": [
    "# Build Model\n",
    "class LeNet(nn.Module):\n",
    "    def __init__(self):\n",
    "        super(LeNet, self).__init__()\n",
    "        \n",
    "        # conv layer\n",
    "        self.convLayer1 = nn.Sequential(\n",
    "            # number of channel input, number of channel output, kernelsize\n",
    "            nn.Conv2d(1, 6, 5), \n",
    "            nn.BatchNorm2d(6),\n",
    "            nn.Tanh(),\n",
    "            # kernel size 2*2, stride: 2\n",
    "            nn.MaxPool2d(2, stride=2),\n",
    "        )\n",
    "        self.convLayer2 = nn.Sequential(\n",
    "            nn.Conv2d(6, 16, 5), \n",
    "            nn.BatchNorm2d(16),\n",
    "            nn.Tanh(),\n",
    "            nn.MaxPool2d(2, stride=2), \n",
    "        )\n",
    "        \n",
    "        # fully connect layer\n",
    "        self.fc = nn.Sequential(\n",
    "            nn.Linear(400, 120),\n",
    "            nn.Tanh(),\n",
    "            nn.Linear(120, 84),\n",
    "            nn.Tanh(),\n",
    "            nn.Linear(84, 10),\n",
    "        )\n",
    "        \n",
    "        # flatten layer\n",
    "        self.flatten = nn.Flatten()\n",
    "        \n",
    "    def __call__(self, x):\n",
    "        x = self.convLayer1(x)\n",
    "        x = self.convLayer2(x)\n",
    "        x = self.flatten(x)\n",
    "        x = self.fc(x)\n",
    "        return x"
   ]
  },
  {
   "cell_type": "code",
   "execution_count": 95,
   "id": "9b2f651e",
   "metadata": {},
   "outputs": [],
   "source": [
    "model = LeNet()\n",
    "loss_fn = nn.CrossEntropyLoss()\n",
    "optimizer = torch.optim.Adam(model.parameters(), lr=0.0001)"
   ]
  },
  {
   "cell_type": "code",
   "execution_count": 96,
   "id": "01f7c66d",
   "metadata": {},
   "outputs": [
    {
     "name": "stdout",
     "output_type": "stream",
     "text": [
      "Epoch:1, Loss:0.5486860275268555\n",
      "Epoch:2, Loss:0.6390359997749329\n",
      "Epoch:3, Loss:0.49598124623298645\n",
      "Epoch:4, Loss:0.1753852516412735\n",
      "Epoch:5, Loss:0.19569051265716553\n",
      "Epoch:6, Loss:0.46387776732444763\n",
      "Epoch:7, Loss:0.49587389826774597\n",
      "Epoch:8, Loss:0.26495617628097534\n",
      "Epoch:9, Loss:0.3514784276485443\n",
      "Epoch:10, Loss:0.16217520833015442\n"
     ]
    }
   ],
   "source": [
    "num_epochs = 10\n",
    "for epoch in range(num_epochs):\n",
    "    for i, (inputs, labels) in enumerate(train_loader):\n",
    "        outputs = model(inputs)\n",
    "        loss = loss_fn(outputs, labels)\n",
    "        \n",
    "        optimizer.zero_grad()\n",
    "        loss.backward()\n",
    "        optimizer.step()\n",
    "        \n",
    "    print(f'Epoch:{epoch+1}, Loss:{loss}')"
   ]
  },
  {
   "cell_type": "code",
   "execution_count": 98,
   "id": "bc6e061e",
   "metadata": {},
   "outputs": [
    {
     "name": "stdout",
     "output_type": "stream",
     "text": [
      "Accuracy: 88.45\n"
     ]
    }
   ],
   "source": [
    "with torch.no_grad():\n",
    "    correct = 0\n",
    "    total = 0\n",
    "    for images, labels in test_loader:\n",
    "        outputs = model(images)\n",
    "        _, prediction = torch.max(outputs.data, 1)\n",
    "        total += labels.size(0)\n",
    "        correct += (prediction == labels).sum().item()\n",
    "        \n",
    "    print(f'Accuracy: {100*correct/total}')"
   ]
  },
  {
   "cell_type": "code",
   "execution_count": null,
   "id": "e6b5c625",
   "metadata": {},
   "outputs": [],
   "source": []
  }
 ],
 "metadata": {
  "kernelspec": {
   "display_name": "Python 3 (ipykernel)",
   "language": "python",
   "name": "python3"
  },
  "language_info": {
   "codemirror_mode": {
    "name": "ipython",
    "version": 3
   },
   "file_extension": ".py",
   "mimetype": "text/x-python",
   "name": "python",
   "nbconvert_exporter": "python",
   "pygments_lexer": "ipython3",
   "version": "3.11.4"
  }
 },
 "nbformat": 4,
 "nbformat_minor": 5
}
