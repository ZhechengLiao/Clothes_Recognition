{
 "cells": [
  {
   "cell_type": "code",
   "execution_count": 109,
   "id": "a830ad4f",
   "metadata": {},
   "outputs": [],
   "source": [
    "import torch\n",
    "from torch import nn\n",
    "from torch.nn import functional as F\n",
    "from torch.utils.data import Dataset\n",
    "from torchvision import datasets\n",
    "from torchvision.transforms import ToTensor\n",
    "from torch.utils.data import DataLoader"
   ]
  },
  {
   "cell_type": "code",
   "execution_count": 10,
   "id": "111d2d0f",
   "metadata": {},
   "outputs": [],
   "source": [
    "training_data = datasets.FashionMNIST(\n",
    "    root='data',\n",
    "    train=True,\n",
    "    download=True,\n",
    "    transform=ToTensor()\n",
    ")\n",
    "\n",
    "test_data = datasets.FashionMNIST(\n",
    "    root='data',\n",
    "    train=False,\n",
    "    download=True,\n",
    "    transform=ToTensor()\n",
    ")"
   ]
  },
  {
   "cell_type": "code",
   "execution_count": 113,
   "id": "f62361c1",
   "metadata": {},
   "outputs": [
    {
     "name": "stdout",
     "output_type": "stream",
     "text": [
      "Bag\n"
     ]
    },
    {
     "data": {
      "image/png": "[encoded data removed]",
      "text/plain": [
       "<Figure size 640x480 with 1 Axes>"
      ]
     },
     "metadata": {},
     "output_type": "display_data"
    }
   ],
   "source": [
    "from matplotlib import pyplot as plt\n",
    "\n",
    "labels_map = {\n",
    "    0: \"T-Shirt\",\n",
    "    1: \"Trouser\",\n",
    "    2: \"Pullover\",\n",
    "    3: \"Dress\",\n",
    "    4: \"Coat\",\n",
    "    5: \"Sandal\",\n",
    "    6: \"Shirt\",\n",
    "    7: \"Sneaker\",\n",
    "    8: \"Bag\",\n",
    "    9: \"Ankle Boot\",\n",
    "}\n",
    "\n",
    "sample_idx = torch.randint(len(training_data), size=(1,)).item() # randomly choose an index\n",
    "img, label = training_data[sample_idx] # get img and label from training_data\n",
    "plt.imshow(img.squeeze(), cmap='gray')\n",
    "print(labels_map[label])"
   ]
  },
  {
   "cell_type": "code",
   "execution_count": 158,
   "id": "04e1dd4a",
   "metadata": {},
   "outputs": [],
   "source": [
    "# dataloader\n",
    "train_dataloader = DataLoader(training_data,batch_size=32, shuffle=True)\n",
    "test_dataloader = DataLoader(test_data,batch_size=32, shuffle=False)"
   ]
  },
  {
   "cell_type": "code",
   "execution_count": 188,
   "id": "affdf59b",
   "metadata": {},
   "outputs": [],
   "source": [
    "# Model\n",
    "class ClassificationModel(nn.Module):\n",
    "    def __init__(self):\n",
    "        super(ClassificationModel, self).__init__()\n",
    "        self.flatten = nn.Flatten() # flatten input first\n",
    "        self.linear1 = nn.Linear(784, 64) # flatten to (Batchsize, flatten size), flatten size, output size\n",
    "        self.linear2 = nn.Linear(64, 10)  # output layer \n",
    "        \n",
    "    def __call__(self, x):\n",
    "        x = self.flatten(x)\n",
    "        x = F.relu(self.linear1(x))\n",
    "        x = self.linear2(x)\n",
    "        return x"
   ]
  },
  {
   "cell_type": "code",
   "execution_count": 189,
   "id": "4fd9db95",
   "metadata": {},
   "outputs": [],
   "source": [
    "model = ClassificationModel()\n",
    "loss_fn = nn.CrossEntropyLoss()\n",
    "optimizer = torch.optim.Adam(model.parameters(), lr=0.001)"
   ]
  },
  {
   "cell_type": "code",
   "execution_count": 187,
   "id": "7fd23993",
   "metadata": {
    "scrolled": true
   },
   "outputs": [
    {
     "name": "stdout",
     "output_type": "stream",
     "text": [
      "tensor(0.2272, grad_fn=<NllLossBackward0>)\n",
      "tensor(0.4797, grad_fn=<NllLossBackward0>)\n",
      "tensor(0.2138, grad_fn=<NllLossBackward0>)\n",
      "tensor(0.2214, grad_fn=<NllLossBackward0>)\n",
      "tensor(0.2623, grad_fn=<NllLossBackward0>)\n",
      "tensor(0.3481, grad_fn=<NllLossBackward0>)\n",
      "tensor(0.4113, grad_fn=<NllLossBackward0>)\n",
      "tensor(0.2249, grad_fn=<NllLossBackward0>)\n",
      "tensor(0.3037, grad_fn=<NllLossBackward0>)\n",
      "tensor(0.1424, grad_fn=<NllLossBackward0>)\n"
     ]
    }
   ],
   "source": [
    "# train\n",
    "num_epochs = 10\n",
    "for epoch in range(num_epochs):\n",
    "    for i, (inputs, labels) in enumerate(train_dataloader):\n",
    "        optimizer.zero_grad() # ****important****\n",
    "        outputs = model(inputs.squeeze()) # squeeze here is important, to eleminate 1 dimention\n",
    "        loss = loss_fn(outputs, labels)   # here, we have to make sure the shape of outputs and shape of labels is same\n",
    "        loss.backward() # backward propagation\n",
    "        optimizer.step()\n",
    "    print(loss)"
   ]
  },
  {
   "cell_type": "code",
   "execution_count": 196,
   "id": "4a02c27c",
   "metadata": {},
   "outputs": [],
   "source": [
    "def check_accuracy(loader, model):\n",
    "    num_correct = 0\n",
    "    num_samples = 0\n",
    "    model.eval()\n",
    "    \n",
    "    with torch.no_grad():\n",
    "        for x, y in loader:\n",
    "            x = x\n",
    "            y = y\n",
    "            \n",
    "            scores = model(x)\n",
    "            _, predictions = scores.max(1)\n",
    "            num_correct += (predictions == y).sum()\n",
    "            num_samples += predictions.size(0)\n",
    "        \n",
    "        print(f'Got {num_correct} / {num_samples} with accuracy {float(num_correct)/float(num_samples)*100:.2f}') \n",
    "    \n",
    "    model.train()"
   ]
  },
  {
   "cell_type": "code",
   "execution_count": 197,
   "id": "f15accf4",
   "metadata": {},
   "outputs": [
    {
     "name": "stdout",
     "output_type": "stream",
     "text": [
      "Got 1060 / 10000 with accuracy 10.60\n"
     ]
    }
   ],
   "source": [
    "check_accuracy(test_dataloader, model)"
   ]
  },
  {
   "cell_type": "code",
   "execution_count": null,
   "id": "a71fe1f1",
   "metadata": {},
   "outputs": [],
   "source": []
  }
 ],
 "metadata": {
  "kernelspec": {
   "display_name": "Python 3 (ipykernel)",
   "language": "python",
   "name": "python3"
  },
  "language_info": {
   "codemirror_mode": {
    "name": "ipython",
    "version": 3
   },
   "file_extension": ".py",
   "mimetype": "text/x-python",
   "name": "python",
   "nbconvert_exporter": "python",
   "pygments_lexer": "ipython3",
   "version": "3.11.4"
  }
 },
 "nbformat": 4,
 "nbformat_minor": 5
}
